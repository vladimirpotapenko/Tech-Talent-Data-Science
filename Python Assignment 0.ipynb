{
 "cells": [
  {
   "cell_type": "markdown",
   "metadata": {},
   "source": [
    "Data Science Fundamentals: Python |\n",
    "[Table of Contents](../index.ipynb)\n",
    "- - - \n",
    "<!--NAVIGATION-->\n",
    "Module 1. [Basic Python Syntax](./01_mod_python_syntax.ipynb) | [Variables and Objects](./02_python_variables_objects.ipynb) | [Operators](./03_python_operators.ipynb) | **[Exercises](./04_mod_practice.ipynb)**"
   ]
  },
  {
   "cell_type": "markdown",
   "metadata": {},
   "source": [
    "# Module 1: Practice Exercises\n",
    "Please remember to [Submit this file to Titus](https://titus.techtalentsouth.com/mod/assign/view.php?id=44970)"
   ]
  },
  {
   "cell_type": "markdown",
   "metadata": {},
   "source": [
    "### Exercise 1: Accept the user's first and last name and print them in reverse order with a space between them."
   ]
  },
  {
   "cell_type": "code",
   "execution_count": 1,
   "metadata": {},
   "outputs": [
    {
     "name": "stdout",
     "output_type": "stream",
     "text": [
      "What is your first name? Vlad\n",
      "What is your last name? Potapenko\n",
      "Oknepatop Dalv\n",
      "What is your name? Please write with a space between first and last: vlad potapenko\n",
      "Oknepatop Dalv\n"
     ]
    }
   ],
   "source": [
    "#insert your code here, and don't forget to comment EVERY line!\n",
    "#Need to receive input from user for first name\n",
    "FirstNameInput = input(\"What is your first name? \")\n",
    "#Need to received input from user for last name\n",
    "LastNameInput = input(\"What is your last name? \")\n",
    "#Need to reverse first name\n",
    "fn_reversed = FirstNameInput[::-1]\n",
    "#Need to reverse last name\n",
    "ln_reversed = LastNameInput[::-1]\n",
    "#combine first and last with a space between\n",
    "FullNameReversed = ln_reversed.lower() + \" \" + fn_reversed.lower() \n",
    "#Need to print the name and capitalize the first letter to make it also a name\n",
    "print(FullNameReversed.title())\n",
    "\n",
    "#An easier way to do this, but with greater reliance on the user to keep the space between\n",
    "UserName = input(\"What is your name? Please write with a space between first and last: \")\n",
    "NameReversed = UserName[::-1]\n",
    "print(NameReversed.title())"
   ]
  },
  {
   "cell_type": "markdown",
   "metadata": {},
   "source": [
    "### Exercise 2. Accept an integer (n) and compute the value of n+nn+nnn"
   ]
  },
  {
   "cell_type": "code",
   "execution_count": null,
   "metadata": {},
   "outputs": [],
   "source": [
    "#Need to get user input on integer\n",
    "UserInteger = input(\"Please enter an integer: \")\n",
    "#Take the integer, turn the integer value from a string to an integer through a placeholder string format %s\n",
    "n1 = int(\"%s\" % (UserInteger,))\n",
    "#Take the input value and combine it with itself using the placeholder format then turn to integer\n",
    "n2 = int(\"%s%s\" % (UserInteger,UserInteger))\n",
    "#combine the input value with itself thrice then turn into an integer\n",
    "n3 = int(\"%s%s%s\" % (UserInteger,UserInteger,UserInteger))\n",
    "#sum up the integers \n",
    "IntegerSum = n1 + n2 + n3\n",
    "#print the sum with the print function\n",
    "print(IntegerSum)"
   ]
  },
  {
   "cell_type": "markdown",
   "metadata": {},
   "source": [
    "### Exercise 3. Ask the user \"What country are you from?\" then print the following statement: \"I have heard that [input] is a beautiful country!\""
   ]
  },
  {
   "cell_type": "code",
   "execution_count": null,
   "metadata": {},
   "outputs": [],
   "source": [
    "#Variable to ask the country\n",
    "UserCountry = input(\"What country are you from? \")\n",
    "#conditional statement to check how to print\n",
    "if UserCountry.lower() == \"united states\":\n",
    "#Need to print in case its united states, so there is a \"the\"\n",
    "    print(\"I have heard that the %s is a beautiful country\" % (UserCountry.title(),))\n",
    "#Else statement for other countries\n",
    "else:\n",
    "    print(\"I have heard that %s is a beautiful country\" % (UserCountry.title(),))\n",
    "\n"
   ]
  },
  {
   "cell_type": "markdown",
   "metadata": {},
   "source": [
    "### Exercise 4. What is the output of the following python code?"
   ]
  },
  {
   "cell_type": "code",
   "execution_count": 6,
   "metadata": {},
   "outputs": [],
   "source": [
    "x = 10\n",
    "y = 50\n",
    "if (x ** 2 > 100 and y < 100):\n",
    "    print(x, y)"
   ]
  },
  {
   "cell_type": "raw",
   "metadata": {},
   "source": [
    "The output is empty as the boolean connected to the if statement is false, thus not initiating the print sequence. With no else statement the return is empty. The boolean is false because x**2 is not greater than 100.\n"
   ]
  },
  {
   "cell_type": "markdown",
   "metadata": {},
   "source": [
    "### Exercise 5: What is the output of the following addition `+` operator, and why does this code chunk execute this way??"
   ]
  },
  {
   "cell_type": "code",
   "execution_count": 10,
   "metadata": {},
   "outputs": [
    {
     "name": "stdout",
     "output_type": "stream",
     "text": [
      "[10, 20, 30, 40]\n",
      "[10, 20, 30, 40]\n",
      "[10, 20, 30, 40]\n"
     ]
    }
   ],
   "source": [
    "a = [10, 20]\n",
    "b = a\n",
    "c = a\n",
    "b += [30, 40]\n",
    "print(a)\n",
    "print(b)\n",
    "print(c)"
   ]
  },
  {
   "cell_type": "markdown",
   "metadata": {},
   "source": [
    "The output for both a and b will be the list [10,20,30,40]. This is due to the fact that variables act as pointers in Python.  As b points to a, when the third line adds two lists, the returned list becomes the object both a and b point to. This list is [10,20,30,40] "
   ]
  },
  {
   "cell_type": "markdown",
   "metadata": {},
   "source": [
    "### Exercise 6. What is the output of the following code, and what operator is being used here?"
   ]
  },
  {
   "cell_type": "raw",
   "metadata": {},
   "source": [
    "print(2%6)\n",
    "\n"
   ]
  },
  {
   "cell_type": "markdown",
   "metadata": {},
   "source": [
    "The output is 2. This is the modulo operator, giving us the remainder of the division between the dividend and divisor, where \n",
    "the number 2 is the dividend and 6 is the divisor."
   ]
  },
  {
   "cell_type": "markdown",
   "metadata": {},
   "source": [
    "### Exercise 7: What is the output of the following code, and what arithmetic operators are used in this code?"
   ]
  },
  {
   "cell_type": "raw",
   "metadata": {},
   "source": [
    "print(2 * 3 ** 3 * 4)"
   ]
  },
  {
   "cell_type": "markdown",
   "metadata": {},
   "source": [
    "The output is 216. The operators are exponentiation and multiplication. It turns in 2*(3**3)*4.  "
   ]
  },
  {
   "cell_type": "markdown",
   "metadata": {},
   "source": [
    "### Exercise 8: What is a text editor?"
   ]
  },
  {
   "cell_type": "markdown",
   "metadata": {},
   "source": [
    "A text editor is a program that edits plain text, thus allowing it to create and edit various programming language files."
   ]
  },
  {
   "cell_type": "markdown",
   "metadata": {},
   "source": [
    "### Exercise 9: What is python?"
   ]
  },
  {
   "cell_type": "markdown",
   "metadata": {},
   "source": [
    "Python is a high-level programming language that allows for both object-oriented programming as well as procedural programming. It can be used for machine learning, data science, as well as other programming tasks. Highly popular, it is very readable and accessible due to its label as “pseudo-code” and it being an interpreter that can run line by line instead of being a classic compiler."
   ]
  },
  {
   "cell_type": "markdown",
   "metadata": {},
   "source": [
    "### Exercise 10: What is jupyter notebook, what type of python environment is it, and what alternatives are there to jupyter notebook?"
   ]
  },
  {
   "cell_type": "markdown",
   "metadata": {},
   "source": [
    "Jupyter Notebook is a hybrid development environment that brings together in a single document format various aspects of the interactive python terminal and self-contained script. JN can run code line-by-line or as a script for executable code, formatted text, graphics, and other tasks. Alternatives to JN are interactive development environments such as PyCharm and Spyder, as well as the IPython program. "
   ]
  },
  {
   "cell_type": "markdown",
   "metadata": {},
   "source": [
    "### Please remember to submit this file to Titus!"
   ]
  },
  {
   "cell_type": "markdown",
   "metadata": {},
   "source": [
    "<!--NAVIGATION-->\n",
    "Module 1. [Basic Python Syntax](./01_mod_python_syntax.ipynb) | [Variables and Objects](./02_python_variables_objects.ipynb) | [Operators](./03_python_operators.ipynb) | **[Practice](./04_mod_practice.ipynb)**\n",
    "<br>\n",
    "[top](#)"
   ]
  },
  {
   "cell_type": "markdown",
   "metadata": {},
   "source": [
    "- - -\n",
    "\n",
    "Copyright © 2020 Qualex Consulting Services Incorporated."
   ]
  }
 ],
 "metadata": {
  "kernelspec": {
   "display_name": "Python 3",
   "language": "python",
   "name": "python3"
  },
  "language_info": {
   "codemirror_mode": {
    "name": "ipython",
    "version": 3
   },
   "file_extension": ".py",
   "mimetype": "text/x-python",
   "name": "python",
   "nbconvert_exporter": "python",
   "pygments_lexer": "ipython3",
   "version": "3.8.8"
  }
 },
 "nbformat": 4,
 "nbformat_minor": 4
}
